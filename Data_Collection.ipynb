{
 "cells": [
  {
   "cell_type": "markdown",
   "metadata": {},
   "source": [
    "# **Packages to install**"
   ]
  },
  {
   "cell_type": "code",
   "execution_count": 7,
   "metadata": {},
   "outputs": [],
   "source": [
    "# pip install requests pandas geopandas folium matplotlib openpyxl"
   ]
  },
  {
   "cell_type": "code",
   "execution_count": 13,
   "metadata": {},
   "outputs": [
    {
     "name": "stdout",
     "output_type": "stream",
     "text": [
      "Note: you may need to restart the kernel to use updated packages.\n"
     ]
    },
    {
     "name": "stderr",
     "output_type": "stream",
     "text": [
      "ERROR: Could not find a version that satisfies the requirement sqlite3 (from versions: none)\n",
      "ERROR: No matching distribution found for sqlite3\n"
     ]
    }
   ],
   "source": [
    "pip install sqlite3"
   ]
  },
  {
   "cell_type": "markdown",
   "metadata": {},
   "source": [
    "# **Imports**"
   ]
  },
  {
   "cell_type": "code",
   "execution_count": 8,
   "metadata": {},
   "outputs": [],
   "source": [
    "import requests\n",
    "import pandas as pd\n",
    "import geopandas as gpd\n",
    "import folium\n",
    "import matplotlib.pyplot as plt\n",
    "\n",
    "import sqlite3\n",
    "from io import BytesIO"
   ]
  },
  {
   "cell_type": "markdown",
   "metadata": {},
   "source": [
    "## **Imports Explained**\n",
    "`import geopandas as gpd`: GeoPandas extends regular pandas to handle geospatial data (like points, polygons, etc.).\n",
    "\n",
    "`import folium`: Folium is used for building interactive maps in Python using Leaflet.js."
   ]
  },
  {
   "cell_type": "markdown",
   "metadata": {},
   "source": [
    "# **Seting up API URL**"
   ]
  },
  {
   "cell_type": "code",
   "execution_count": 9,
   "metadata": {},
   "outputs": [],
   "source": [
    "BASE_URL = \"https://iwaste.epa.gov/api\"\n",
    "EXPORT_URL = \"/facilities/export\"\n",
    "url = BASE_URL + EXPORT_URL"
   ]
  },
  {
   "cell_type": "markdown",
   "metadata": {},
   "source": [
    "# **Requesting Data**"
   ]
  },
  {
   "cell_type": "code",
   "execution_count": 10,
   "metadata": {},
   "outputs": [
    {
     "name": "stdout",
     "output_type": "stream",
     "text": [
      "Status Code: 200\n"
     ]
    }
   ],
   "source": [
    "# Make a GET request to test connection\n",
    "response = requests.get(url)\n",
    "\n",
    "# Set the request headers to accept Excel, due to API documentation\n",
    "headers = {\n",
    "    \"Accept\": \"application/vnd.openxmlformats-officedocument.spreadsheetml.sheet\"\n",
    "}\n",
    "\n",
    "# Make the request and store content in memory\n",
    "response = requests.get(url, headers=headers)\n",
    "\n",
    "# Check the status and preview content\n",
    "print(\"Status Code:\", response.status_code)\n",
    "\n",
    "# If successful, show part of the response\n",
    "if response.status_code == 200:\n",
    "    data = BytesIO(response.content)\n",
    "    df = pd.read_excel(data)\n",
    "else:\n",
    "    print(\"Error:\", response.text)"
   ]
  },
  {
   "cell_type": "code",
   "execution_count": 11,
   "metadata": {},
   "outputs": [
    {
     "data": {
      "text/html": [
       "<div>\n",
       "<style scoped>\n",
       "    .dataframe tbody tr th:only-of-type {\n",
       "        vertical-align: middle;\n",
       "    }\n",
       "\n",
       "    .dataframe tbody tr th {\n",
       "        vertical-align: top;\n",
       "    }\n",
       "\n",
       "    .dataframe thead th {\n",
       "        text-align: right;\n",
       "    }\n",
       "</style>\n",
       "<table border=\"1\" class=\"dataframe\">\n",
       "  <thead>\n",
       "    <tr style=\"text-align: right;\">\n",
       "      <th></th>\n",
       "      <th>Name</th>\n",
       "      <th>Street Address</th>\n",
       "      <th>City</th>\n",
       "      <th>State</th>\n",
       "      <th>EPA Region</th>\n",
       "      <th>Latitude</th>\n",
       "      <th>Longitude</th>\n",
       "      <th>Source ID</th>\n",
       "      <th>Facility Type (Source)</th>\n",
       "    </tr>\n",
       "  </thead>\n",
       "  <tbody>\n",
       "    <tr>\n",
       "      <th>0</th>\n",
       "      <td>Tatitlek Landfill</td>\n",
       "      <td>NaN</td>\n",
       "      <td>Tatitlek</td>\n",
       "      <td>AK</td>\n",
       "      <td>10.0</td>\n",
       "      <td>60.874301</td>\n",
       "      <td>-146.686495</td>\n",
       "      <td>1032034</td>\n",
       "      <td>C&amp;D Recyclers (U.S. EPA/OLEM (2020)), Inert or...</td>\n",
       "    </tr>\n",
       "    <tr>\n",
       "      <th>1</th>\n",
       "      <td>Telida Landfill</td>\n",
       "      <td>NaN</td>\n",
       "      <td>Telida</td>\n",
       "      <td>AK</td>\n",
       "      <td>10.0</td>\n",
       "      <td>63.383241</td>\n",
       "      <td>-153.303034</td>\n",
       "      <td>1032035</td>\n",
       "      <td>C&amp;D Recyclers (U.S. EPA/OLEM (2020)), Inert or...</td>\n",
       "    </tr>\n",
       "    <tr>\n",
       "      <th>2</th>\n",
       "      <td>Teller Landfill</td>\n",
       "      <td>NaN</td>\n",
       "      <td>Teller</td>\n",
       "      <td>AK</td>\n",
       "      <td>10.0</td>\n",
       "      <td>65.215301</td>\n",
       "      <td>-166.316974</td>\n",
       "      <td>1032036</td>\n",
       "      <td>C&amp;D Recyclers (U.S. EPA/OLEM (2020)), Inert or...</td>\n",
       "    </tr>\n",
       "    <tr>\n",
       "      <th>3</th>\n",
       "      <td>Tetlin 5 mile East Landfill</td>\n",
       "      <td>NaN</td>\n",
       "      <td>Tetlin</td>\n",
       "      <td>AK</td>\n",
       "      <td>10.0</td>\n",
       "      <td>63.138686</td>\n",
       "      <td>-142.514853</td>\n",
       "      <td>1032037</td>\n",
       "      <td>Inert or Construction and Demolition Landfills...</td>\n",
       "    </tr>\n",
       "    <tr>\n",
       "      <th>4</th>\n",
       "      <td>Thorne Bay Landfill</td>\n",
       "      <td>NaN</td>\n",
       "      <td>Thorne Bay</td>\n",
       "      <td>AK</td>\n",
       "      <td>10.0</td>\n",
       "      <td>55.692400</td>\n",
       "      <td>-132.623000</td>\n",
       "      <td>1032038</td>\n",
       "      <td>Inert or Construction and Demolition Landfills...</td>\n",
       "    </tr>\n",
       "    <tr>\n",
       "      <th>...</th>\n",
       "      <td>...</td>\n",
       "      <td>...</td>\n",
       "      <td>...</td>\n",
       "      <td>...</td>\n",
       "      <td>...</td>\n",
       "      <td>...</td>\n",
       "      <td>...</td>\n",
       "      <td>...</td>\n",
       "      <td>...</td>\n",
       "    </tr>\n",
       "    <tr>\n",
       "      <th>41904</th>\n",
       "      <td>FORT WASHAKIE HOTSPRINGS LAGOON</td>\n",
       "      <td>N S12 T01S R02W</td>\n",
       "      <td>FORT WASHAKIE</td>\n",
       "      <td>WY</td>\n",
       "      <td>8.0</td>\n",
       "      <td>43.046151</td>\n",
       "      <td>-108.895130</td>\n",
       "      <td>NaN</td>\n",
       "      <td>Publicly Owned Treatment Works (ECHO/ICIS-NPDE...</td>\n",
       "    </tr>\n",
       "    <tr>\n",
       "      <th>41905</th>\n",
       "      <td>GREAT PLAINS LAGOON</td>\n",
       "      <td>NE 1/4 OF THE SW 1/4 OF SECTION 13; T01S R03E</td>\n",
       "      <td>ARAPAHOE</td>\n",
       "      <td>WY</td>\n",
       "      <td>8.0</td>\n",
       "      <td>42.974100</td>\n",
       "      <td>-108.477000</td>\n",
       "      <td>NaN</td>\n",
       "      <td>Publicly Owned Treatment Works (ECHO/ICIS-NPDE...</td>\n",
       "    </tr>\n",
       "    <tr>\n",
       "      <th>41906</th>\n",
       "      <td>ST. STEPHENS INDIAN MISSION, INC.</td>\n",
       "      <td>SWSW S9 T01S R04E</td>\n",
       "      <td>SAINT STEPHENS</td>\n",
       "      <td>WY</td>\n",
       "      <td>8.0</td>\n",
       "      <td>42.982995</td>\n",
       "      <td>-108.411824</td>\n",
       "      <td>NaN</td>\n",
       "      <td>Publicly Owned Treatment Works (ECHO/ICIS-NPDE...</td>\n",
       "    </tr>\n",
       "    <tr>\n",
       "      <th>41907</th>\n",
       "      <td>ARAPAHO INDUSTRIAL PARK LAGOON</td>\n",
       "      <td>LEFT HAND DITCH ROAD</td>\n",
       "      <td>ARAPAHOE</td>\n",
       "      <td>WY</td>\n",
       "      <td>8.0</td>\n",
       "      <td>42.994776</td>\n",
       "      <td>-108.371050</td>\n",
       "      <td>NaN</td>\n",
       "      <td>Publicly Owned Treatment Works (ECHO/ICIS-NPDE...</td>\n",
       "    </tr>\n",
       "    <tr>\n",
       "      <th>41908</th>\n",
       "      <td>BEAVER CREEK LAGOONS</td>\n",
       "      <td>E1/2 S15, T1S, R4E</td>\n",
       "      <td>RIVERTON</td>\n",
       "      <td>WY</td>\n",
       "      <td>8.0</td>\n",
       "      <td>42.975598</td>\n",
       "      <td>-108.385796</td>\n",
       "      <td>NaN</td>\n",
       "      <td>Publicly Owned Treatment Works (ECHO/ICIS-NPDE...</td>\n",
       "    </tr>\n",
       "  </tbody>\n",
       "</table>\n",
       "<p>41909 rows × 9 columns</p>\n",
       "</div>"
      ],
      "text/plain": [
       "                                    Name  \\\n",
       "0                      Tatitlek Landfill   \n",
       "1                        Telida Landfill   \n",
       "2                        Teller Landfill   \n",
       "3            Tetlin 5 mile East Landfill   \n",
       "4                    Thorne Bay Landfill   \n",
       "...                                  ...   \n",
       "41904    FORT WASHAKIE HOTSPRINGS LAGOON   \n",
       "41905                GREAT PLAINS LAGOON   \n",
       "41906  ST. STEPHENS INDIAN MISSION, INC.   \n",
       "41907     ARAPAHO INDUSTRIAL PARK LAGOON   \n",
       "41908               BEAVER CREEK LAGOONS   \n",
       "\n",
       "                                      Street Address            City State  \\\n",
       "0                                                NaN        Tatitlek    AK   \n",
       "1                                                NaN          Telida    AK   \n",
       "2                                                NaN          Teller    AK   \n",
       "3                                                NaN          Tetlin    AK   \n",
       "4                                                NaN      Thorne Bay    AK   \n",
       "...                                              ...             ...   ...   \n",
       "41904                                N S12 T01S R02W   FORT WASHAKIE    WY   \n",
       "41905  NE 1/4 OF THE SW 1/4 OF SECTION 13; T01S R03E        ARAPAHOE    WY   \n",
       "41906                              SWSW S9 T01S R04E  SAINT STEPHENS    WY   \n",
       "41907                           LEFT HAND DITCH ROAD        ARAPAHOE    WY   \n",
       "41908                             E1/2 S15, T1S, R4E        RIVERTON    WY   \n",
       "\n",
       "       EPA Region   Latitude   Longitude Source ID  \\\n",
       "0            10.0  60.874301 -146.686495   1032034   \n",
       "1            10.0  63.383241 -153.303034   1032035   \n",
       "2            10.0  65.215301 -166.316974   1032036   \n",
       "3            10.0  63.138686 -142.514853   1032037   \n",
       "4            10.0  55.692400 -132.623000   1032038   \n",
       "...           ...        ...         ...       ...   \n",
       "41904         8.0  43.046151 -108.895130       NaN   \n",
       "41905         8.0  42.974100 -108.477000       NaN   \n",
       "41906         8.0  42.982995 -108.411824       NaN   \n",
       "41907         8.0  42.994776 -108.371050       NaN   \n",
       "41908         8.0  42.975598 -108.385796       NaN   \n",
       "\n",
       "                                  Facility Type (Source)  \n",
       "0      C&D Recyclers (U.S. EPA/OLEM (2020)), Inert or...  \n",
       "1      C&D Recyclers (U.S. EPA/OLEM (2020)), Inert or...  \n",
       "2      C&D Recyclers (U.S. EPA/OLEM (2020)), Inert or...  \n",
       "3      Inert or Construction and Demolition Landfills...  \n",
       "4      Inert or Construction and Demolition Landfills...  \n",
       "...                                                  ...  \n",
       "41904  Publicly Owned Treatment Works (ECHO/ICIS-NPDE...  \n",
       "41905  Publicly Owned Treatment Works (ECHO/ICIS-NPDE...  \n",
       "41906  Publicly Owned Treatment Works (ECHO/ICIS-NPDE...  \n",
       "41907  Publicly Owned Treatment Works (ECHO/ICIS-NPDE...  \n",
       "41908  Publicly Owned Treatment Works (ECHO/ICIS-NPDE...  \n",
       "\n",
       "[41909 rows x 9 columns]"
      ]
     },
     "execution_count": 11,
     "metadata": {},
     "output_type": "execute_result"
    }
   ],
   "source": [
    "df"
   ]
  },
  {
   "cell_type": "markdown",
   "metadata": {},
   "source": [
    "# **Saving Data to DataBase**"
   ]
  },
  {
   "cell_type": "code",
   "execution_count": 14,
   "metadata": {},
   "outputs": [
    {
     "data": {
      "text/plain": [
       "41909"
      ]
     },
     "execution_count": 14,
     "metadata": {},
     "output_type": "execute_result"
    }
   ],
   "source": [
    "# Connecting to SQLite database\n",
    "conn = sqlite3.connect(\"Data/waste_facilities.db\")\n",
    "\n",
    "# Save DataFrame to SQL table\n",
    "df.to_sql(\"facilities\", conn, if_exists=\"append\", index=False)\n"
   ]
  }
 ],
 "metadata": {
  "kernelspec": {
   "display_name": ".venv",
   "language": "python",
   "name": "python3"
  },
  "language_info": {
   "codemirror_mode": {
    "name": "ipython",
    "version": 3
   },
   "file_extension": ".py",
   "mimetype": "text/x-python",
   "name": "python",
   "nbconvert_exporter": "python",
   "pygments_lexer": "ipython3",
   "version": "3.11.9"
  }
 },
 "nbformat": 4,
 "nbformat_minor": 2
}
