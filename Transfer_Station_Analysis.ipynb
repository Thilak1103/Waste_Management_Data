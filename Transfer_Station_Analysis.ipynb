{
 "cells": [
  {
   "cell_type": "markdown",
   "metadata": {},
   "source": [
    "# **Imports**"
   ]
  },
  {
   "cell_type": "code",
   "execution_count": 2,
   "metadata": {},
   "outputs": [],
   "source": [
    "import requests\n",
    "import pandas as pd\n",
    "import geopandas as gpd\n",
    "import folium\n",
    "import matplotlib.pyplot as plt\n",
    "\n",
    "import sqlite3\n",
    "from io import BytesIO"
   ]
  },
  {
   "cell_type": "markdown",
   "metadata": {},
   "source": [
    "# **Calling Data**"
   ]
  },
  {
   "cell_type": "code",
   "execution_count": 3,
   "metadata": {},
   "outputs": [],
   "source": [
    "# Connecting to existing DB\n",
    "conn = sqlite3.connect(\"data/waste_facilities.db\")  \n",
    "\n",
    "# Load the full facilities table\n",
    "df = pd.read_sql(\"SELECT * FROM facilities\", conn)"
   ]
  },
  {
   "cell_type": "markdown",
   "metadata": {},
   "source": [
    "# **Filtering Data**"
   ]
  },
  {
   "cell_type": "code",
   "execution_count": 4,
   "metadata": {},
   "outputs": [],
   "source": [
    "# Filtering based on facility type\n",
    "landfill_type = \"Inert or Construction and Demolition Landfills (U.S. EPA/OLEM (2020))\"\n",
    "construction_landfills_df = df[df[\"Facility Type (Source)\"] == landfill_type]"
   ]
  },
  {
   "cell_type": "markdown",
   "metadata": {},
   "source": [
    "## **Cleaning Data Frame**"
   ]
  },
  {
   "cell_type": "code",
   "execution_count": 5,
   "metadata": {},
   "outputs": [],
   "source": [
    "# Keeping only essential columns\n",
    "construction_landfills_df = construction_landfills_df[[\"Name\", \"Latitude\", \"Longitude\", \"Facility Type (Source)\"]]\n",
    "construction_landfills_df = construction_landfills_df.reset_index(drop=True)"
   ]
  },
  {
   "cell_type": "code",
   "execution_count": 6,
   "metadata": {},
   "outputs": [
    {
     "data": {
      "text/html": [
       "<div>\n",
       "<style scoped>\n",
       "    .dataframe tbody tr th:only-of-type {\n",
       "        vertical-align: middle;\n",
       "    }\n",
       "\n",
       "    .dataframe tbody tr th {\n",
       "        vertical-align: top;\n",
       "    }\n",
       "\n",
       "    .dataframe thead th {\n",
       "        text-align: right;\n",
       "    }\n",
       "</style>\n",
       "<table border=\"1\" class=\"dataframe\">\n",
       "  <thead>\n",
       "    <tr style=\"text-align: right;\">\n",
       "      <th></th>\n",
       "      <th>Name</th>\n",
       "      <th>Latitude</th>\n",
       "      <th>Longitude</th>\n",
       "      <th>Facility Type (Source)</th>\n",
       "    </tr>\n",
       "  </thead>\n",
       "  <tbody>\n",
       "    <tr>\n",
       "      <th>0</th>\n",
       "      <td>3M Company-Guin Industrial Landfill</td>\n",
       "      <td>33.966647</td>\n",
       "      <td>-87.899798</td>\n",
       "      <td>Inert or Construction and Demolition Landfills...</td>\n",
       "    </tr>\n",
       "    <tr>\n",
       "      <th>1</th>\n",
       "      <td>Alabama River Cellulose Landfill</td>\n",
       "      <td>31.571983</td>\n",
       "      <td>-87.492035</td>\n",
       "      <td>Inert or Construction and Demolition Landfills...</td>\n",
       "    </tr>\n",
       "    <tr>\n",
       "      <th>2</th>\n",
       "      <td>Andalusia Construction / Demolition Landfill</td>\n",
       "      <td>31.343962</td>\n",
       "      <td>-86.451054</td>\n",
       "      <td>Inert or Construction and Demolition Landfills...</td>\n",
       "    </tr>\n",
       "    <tr>\n",
       "      <th>3</th>\n",
       "      <td>Arab C / D Landfill</td>\n",
       "      <td>34.330408</td>\n",
       "      <td>-86.553401</td>\n",
       "      <td>Inert or Construction and Demolition Landfills...</td>\n",
       "    </tr>\n",
       "    <tr>\n",
       "      <th>4</th>\n",
       "      <td>Ash / Dregs Landfill</td>\n",
       "      <td>33.346955</td>\n",
       "      <td>-86.344192</td>\n",
       "      <td>Inert or Construction and Demolition Landfills...</td>\n",
       "    </tr>\n",
       "    <tr>\n",
       "      <th>...</th>\n",
       "      <td>...</td>\n",
       "      <td>...</td>\n",
       "      <td>...</td>\n",
       "      <td>...</td>\n",
       "    </tr>\n",
       "    <tr>\n",
       "      <th>1791</th>\n",
       "      <td>Demoliton Landfill Solutions LLC</td>\n",
       "      <td>46.666883</td>\n",
       "      <td>-92.116552</td>\n",
       "      <td>Inert or Construction and Demolition Landfills...</td>\n",
       "    </tr>\n",
       "    <tr>\n",
       "      <th>1792</th>\n",
       "      <td>Rolling Meadows Demo Landfill</td>\n",
       "      <td>44.863660</td>\n",
       "      <td>-90.797827</td>\n",
       "      <td>Inert or Construction and Demolition Landfills...</td>\n",
       "    </tr>\n",
       "    <tr>\n",
       "      <th>1793</th>\n",
       "      <td>TRI CITY SANITATION INC DEMO LF SITE #2 &amp; #3</td>\n",
       "      <td>44.368407</td>\n",
       "      <td>-91.298517</td>\n",
       "      <td>Inert or Construction and Demolition Landfills...</td>\n",
       "    </tr>\n",
       "    <tr>\n",
       "      <th>1794</th>\n",
       "      <td>Greenbrier County Landfill</td>\n",
       "      <td>37.801356</td>\n",
       "      <td>-80.443133</td>\n",
       "      <td>Inert or Construction and Demolition Landfills...</td>\n",
       "    </tr>\n",
       "    <tr>\n",
       "      <th>1795</th>\n",
       "      <td>Raleigh County Landfill</td>\n",
       "      <td>37.818411</td>\n",
       "      <td>-81.169911</td>\n",
       "      <td>Inert or Construction and Demolition Landfills...</td>\n",
       "    </tr>\n",
       "  </tbody>\n",
       "</table>\n",
       "<p>1796 rows × 4 columns</p>\n",
       "</div>"
      ],
      "text/plain": [
       "                                              Name   Latitude  Longitude  \\\n",
       "0              3M Company-Guin Industrial Landfill  33.966647 -87.899798   \n",
       "1                 Alabama River Cellulose Landfill  31.571983 -87.492035   \n",
       "2     Andalusia Construction / Demolition Landfill  31.343962 -86.451054   \n",
       "3                              Arab C / D Landfill  34.330408 -86.553401   \n",
       "4                             Ash / Dregs Landfill  33.346955 -86.344192   \n",
       "...                                            ...        ...        ...   \n",
       "1791              Demoliton Landfill Solutions LLC  46.666883 -92.116552   \n",
       "1792                 Rolling Meadows Demo Landfill  44.863660 -90.797827   \n",
       "1793  TRI CITY SANITATION INC DEMO LF SITE #2 & #3  44.368407 -91.298517   \n",
       "1794                    Greenbrier County Landfill  37.801356 -80.443133   \n",
       "1795                       Raleigh County Landfill  37.818411 -81.169911   \n",
       "\n",
       "                                 Facility Type (Source)  \n",
       "0     Inert or Construction and Demolition Landfills...  \n",
       "1     Inert or Construction and Demolition Landfills...  \n",
       "2     Inert or Construction and Demolition Landfills...  \n",
       "3     Inert or Construction and Demolition Landfills...  \n",
       "4     Inert or Construction and Demolition Landfills...  \n",
       "...                                                 ...  \n",
       "1791  Inert or Construction and Demolition Landfills...  \n",
       "1792  Inert or Construction and Demolition Landfills...  \n",
       "1793  Inert or Construction and Demolition Landfills...  \n",
       "1794  Inert or Construction and Demolition Landfills...  \n",
       "1795  Inert or Construction and Demolition Landfills...  \n",
       "\n",
       "[1796 rows x 4 columns]"
      ]
     },
     "execution_count": 6,
     "metadata": {},
     "output_type": "execute_result"
    }
   ],
   "source": [
    "construction_landfills_df"
   ]
  },
  {
   "cell_type": "markdown",
   "metadata": {},
   "source": [
    "## **Saving to DataBase**"
   ]
  },
  {
   "cell_type": "code",
   "execution_count": 7,
   "metadata": {},
   "outputs": [
    {
     "data": {
      "text/plain": [
       "1796"
      ]
     },
     "execution_count": 7,
     "metadata": {},
     "output_type": "execute_result"
    }
   ],
   "source": [
    "construction_landfills_df.to_sql(\"construction_landfills\", conn, if_exists=\"replace\", index=False)"
   ]
  },
  {
   "cell_type": "code",
   "execution_count": 10,
   "metadata": {},
   "outputs": [],
   "source": [
    "# Create a new column called 'Company'\n",
    "construction_landfills_df[\"Company\"] = construction_landfills_df[\"Name\"].apply(\n",
    "    lambda name: \"Waste Management Inc.\" if name.strip().startswith(\"Waste Management-\") else \"Other\"\n",
    ")\n"
   ]
  },
  {
   "cell_type": "code",
   "execution_count": 12,
   "metadata": {},
   "outputs": [],
   "source": [
    "# Create a new DataFrame with company info\n",
    "tagged_constrution_df = construction_landfills_df.copy()\n",
    "\n",
    "# Add company tag based on naming rule\n",
    "tagged_constrution_df[\"Company\"] = tagged_constrution_df[\"Name\"].apply(\n",
    "    lambda name: \"Waste Management Inc.\" if name.strip().startswith(\"Waste Management-\") else \"Other\"\n",
    ")\n"
   ]
  },
  {
   "cell_type": "code",
   "execution_count": 13,
   "metadata": {},
   "outputs": [
    {
     "data": {
      "text/html": [
       "<div>\n",
       "<style scoped>\n",
       "    .dataframe tbody tr th:only-of-type {\n",
       "        vertical-align: middle;\n",
       "    }\n",
       "\n",
       "    .dataframe tbody tr th {\n",
       "        vertical-align: top;\n",
       "    }\n",
       "\n",
       "    .dataframe thead th {\n",
       "        text-align: right;\n",
       "    }\n",
       "</style>\n",
       "<table border=\"1\" class=\"dataframe\">\n",
       "  <thead>\n",
       "    <tr style=\"text-align: right;\">\n",
       "      <th></th>\n",
       "      <th>Name</th>\n",
       "      <th>Latitude</th>\n",
       "      <th>Longitude</th>\n",
       "      <th>Facility Type (Source)</th>\n",
       "      <th>Company</th>\n",
       "    </tr>\n",
       "  </thead>\n",
       "  <tbody>\n",
       "    <tr>\n",
       "      <th>0</th>\n",
       "      <td>3M Company-Guin Industrial Landfill</td>\n",
       "      <td>33.966647</td>\n",
       "      <td>-87.899798</td>\n",
       "      <td>Inert or Construction and Demolition Landfills...</td>\n",
       "      <td>Other</td>\n",
       "    </tr>\n",
       "    <tr>\n",
       "      <th>1</th>\n",
       "      <td>Alabama River Cellulose Landfill</td>\n",
       "      <td>31.571983</td>\n",
       "      <td>-87.492035</td>\n",
       "      <td>Inert or Construction and Demolition Landfills...</td>\n",
       "      <td>Other</td>\n",
       "    </tr>\n",
       "    <tr>\n",
       "      <th>2</th>\n",
       "      <td>Andalusia Construction / Demolition Landfill</td>\n",
       "      <td>31.343962</td>\n",
       "      <td>-86.451054</td>\n",
       "      <td>Inert or Construction and Demolition Landfills...</td>\n",
       "      <td>Other</td>\n",
       "    </tr>\n",
       "    <tr>\n",
       "      <th>3</th>\n",
       "      <td>Arab C / D Landfill</td>\n",
       "      <td>34.330408</td>\n",
       "      <td>-86.553401</td>\n",
       "      <td>Inert or Construction and Demolition Landfills...</td>\n",
       "      <td>Other</td>\n",
       "    </tr>\n",
       "    <tr>\n",
       "      <th>4</th>\n",
       "      <td>Ash / Dregs Landfill</td>\n",
       "      <td>33.346955</td>\n",
       "      <td>-86.344192</td>\n",
       "      <td>Inert or Construction and Demolition Landfills...</td>\n",
       "      <td>Other</td>\n",
       "    </tr>\n",
       "    <tr>\n",
       "      <th>...</th>\n",
       "      <td>...</td>\n",
       "      <td>...</td>\n",
       "      <td>...</td>\n",
       "      <td>...</td>\n",
       "      <td>...</td>\n",
       "    </tr>\n",
       "    <tr>\n",
       "      <th>1791</th>\n",
       "      <td>Demoliton Landfill Solutions LLC</td>\n",
       "      <td>46.666883</td>\n",
       "      <td>-92.116552</td>\n",
       "      <td>Inert or Construction and Demolition Landfills...</td>\n",
       "      <td>Other</td>\n",
       "    </tr>\n",
       "    <tr>\n",
       "      <th>1792</th>\n",
       "      <td>Rolling Meadows Demo Landfill</td>\n",
       "      <td>44.863660</td>\n",
       "      <td>-90.797827</td>\n",
       "      <td>Inert or Construction and Demolition Landfills...</td>\n",
       "      <td>Other</td>\n",
       "    </tr>\n",
       "    <tr>\n",
       "      <th>1793</th>\n",
       "      <td>TRI CITY SANITATION INC DEMO LF SITE #2 &amp; #3</td>\n",
       "      <td>44.368407</td>\n",
       "      <td>-91.298517</td>\n",
       "      <td>Inert or Construction and Demolition Landfills...</td>\n",
       "      <td>Other</td>\n",
       "    </tr>\n",
       "    <tr>\n",
       "      <th>1794</th>\n",
       "      <td>Greenbrier County Landfill</td>\n",
       "      <td>37.801356</td>\n",
       "      <td>-80.443133</td>\n",
       "      <td>Inert or Construction and Demolition Landfills...</td>\n",
       "      <td>Other</td>\n",
       "    </tr>\n",
       "    <tr>\n",
       "      <th>1795</th>\n",
       "      <td>Raleigh County Landfill</td>\n",
       "      <td>37.818411</td>\n",
       "      <td>-81.169911</td>\n",
       "      <td>Inert or Construction and Demolition Landfills...</td>\n",
       "      <td>Other</td>\n",
       "    </tr>\n",
       "  </tbody>\n",
       "</table>\n",
       "<p>1796 rows × 5 columns</p>\n",
       "</div>"
      ],
      "text/plain": [
       "                                              Name   Latitude  Longitude  \\\n",
       "0              3M Company-Guin Industrial Landfill  33.966647 -87.899798   \n",
       "1                 Alabama River Cellulose Landfill  31.571983 -87.492035   \n",
       "2     Andalusia Construction / Demolition Landfill  31.343962 -86.451054   \n",
       "3                              Arab C / D Landfill  34.330408 -86.553401   \n",
       "4                             Ash / Dregs Landfill  33.346955 -86.344192   \n",
       "...                                            ...        ...        ...   \n",
       "1791              Demoliton Landfill Solutions LLC  46.666883 -92.116552   \n",
       "1792                 Rolling Meadows Demo Landfill  44.863660 -90.797827   \n",
       "1793  TRI CITY SANITATION INC DEMO LF SITE #2 & #3  44.368407 -91.298517   \n",
       "1794                    Greenbrier County Landfill  37.801356 -80.443133   \n",
       "1795                       Raleigh County Landfill  37.818411 -81.169911   \n",
       "\n",
       "                                 Facility Type (Source) Company  \n",
       "0     Inert or Construction and Demolition Landfills...   Other  \n",
       "1     Inert or Construction and Demolition Landfills...   Other  \n",
       "2     Inert or Construction and Demolition Landfills...   Other  \n",
       "3     Inert or Construction and Demolition Landfills...   Other  \n",
       "4     Inert or Construction and Demolition Landfills...   Other  \n",
       "...                                                 ...     ...  \n",
       "1791  Inert or Construction and Demolition Landfills...   Other  \n",
       "1792  Inert or Construction and Demolition Landfills...   Other  \n",
       "1793  Inert or Construction and Demolition Landfills...   Other  \n",
       "1794  Inert or Construction and Demolition Landfills...   Other  \n",
       "1795  Inert or Construction and Demolition Landfills...   Other  \n",
       "\n",
       "[1796 rows x 5 columns]"
      ]
     },
     "execution_count": 13,
     "metadata": {},
     "output_type": "execute_result"
    }
   ],
   "source": [
    "tagged_constrution_df"
   ]
  }
 ],
 "metadata": {
  "kernelspec": {
   "display_name": "Python 3",
   "language": "python",
   "name": "python3"
  },
  "language_info": {
   "codemirror_mode": {
    "name": "ipython",
    "version": 3
   },
   "file_extension": ".py",
   "mimetype": "text/x-python",
   "name": "python",
   "nbconvert_exporter": "python",
   "pygments_lexer": "ipython3",
   "version": "3.13.1"
  }
 },
 "nbformat": 4,
 "nbformat_minor": 2
}
